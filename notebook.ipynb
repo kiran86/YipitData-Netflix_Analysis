{
 "cells": [
  {
   "cell_type": "markdown",
   "id": "91d645fe",
   "metadata": {},
   "source": [
    "# Netflix Top 10 Titles"
   ]
  },
  {
   "cell_type": "markdown",
   "id": "65456f1d",
   "metadata": {},
   "source": [
    "## Background\n",
    "Each week, Netflix publishes its top 10 titles, along with how many hours users spent watching each one. These are split up into four categories: Films (English), Films (Non-English), TV (English), and TV (Non-English). Investors have a number of key questions about Netflix that this data can help address. For example:\n",
    "+ Is Netflix producing and licensing engaging content?\n",
    "+ Are Netflix's content investments in new genres or geographies generating significant viewership?\n",
    "+ How is viewership trending over time, and what implications does this have for Netflix's subscriber numbers?\n",
    "\n",
    "To answer these questions, the Netflix top 10 website is scrapped every week and then IMDb is scrapped to get information including a movie or show’s running time and ratings. Once the system have this data, it is cleaned and analyzed to provide insights to clients."
   ]
  },
  {
   "cell_type": "markdown",
   "id": "ccefebb6",
   "metadata": {},
   "source": [
    "## Import libraries"
   ]
  },
  {
   "cell_type": "code",
   "execution_count": 16,
   "id": "bbb5f6cd",
   "metadata": {},
   "outputs": [],
   "source": [
    "# import necessary libraries\n",
    "import pandas as pd\n",
    "import numpy as np"
   ]
  },
  {
   "cell_type": "markdown",
   "id": "6ceec241",
   "metadata": {},
   "source": [
    "## Load the Data"
   ]
  },
  {
   "cell_type": "code",
   "execution_count": 17,
   "id": "c2d3591b",
   "metadata": {},
   "outputs": [
    {
     "name": "stdout",
     "output_type": "stream",
     "text": [
      "<class 'pandas.core.frame.DataFrame'>\n",
      "RangeIndex: 520 entries, 0 to 519\n",
      "Data columns (total 8 columns):\n",
      " #   Column                      Non-Null Count  Dtype         \n",
      "---  ------                      --------------  -----         \n",
      " 0   date_added                  520 non-null    datetime64[ns]\n",
      " 1   week                        520 non-null    datetime64[ns]\n",
      " 2   category                    520 non-null    object        \n",
      " 3   show_title                  520 non-null    object        \n",
      " 4   season_title                249 non-null    object        \n",
      " 5   weekly_rank                 520 non-null    int64         \n",
      " 6   cumulative_weeks_in_top_10  520 non-null    int64         \n",
      " 7   weekly_hours_viewed         520 non-null    int64         \n",
      "dtypes: datetime64[ns](2), int64(3), object(3)\n",
      "memory usage: 32.6+ KB\n",
      "None\n",
      "<class 'pandas.core.frame.DataFrame'>\n",
      "RangeIndex: 15879 entries, 0 to 15878\n",
      "Data columns (total 2 columns):\n",
      " #   Column  Non-Null Count  Dtype  \n",
      "---  ------  --------------  -----  \n",
      " 0   title   14569 non-null  object \n",
      " 1   rating  15879 non-null  float64\n",
      "dtypes: float64(1), object(1)\n",
      "memory usage: 248.2+ KB\n",
      "None\n"
     ]
    }
   ],
   "source": [
    "# read netflix dataset\n",
    "nflx_top_10 = pd.read_excel('YipitData - Data Support Specialist - Prescreening Files/Data File.xlsx', sheet_name='NFLX Top 10')\n",
    "# read imdb dataset\n",
    "imdb_top_10 = pd.read_excel('YipitData - Data Support Specialist - Prescreening Files/Data File.xlsx', sheet_name='IMDB Rating')\n",
    "\n",
    "# check datasets\n",
    "print(nflx_top_10.info())\n",
    "print(imdb_top_10.info())"
   ]
  },
  {
   "cell_type": "markdown",
   "id": "0450b5f6",
   "metadata": {},
   "source": [
    "## Clean data\n",
    "\n",
    "The system to collect data from the Netflix website experienced an issue during the week of May 22nd, 2022, specifically affecting the 'weekly_hours_viewed' column. All other columns were accurately collected. Due to this, this week's data cannot be used in estimates, as the 'weekly_hours_viewed' column is critical for tracking viewership metrics. One can assume that this is the only week with incomplete viewership data."
   ]
  },
  {
   "cell_type": "code",
   "execution_count": 18,
   "id": "0e210cf8",
   "metadata": {},
   "outputs": [
    {
     "name": "stdout",
     "output_type": "stream",
     "text": [
      "(480, 8)\n",
      "  date_added       week             category            show_title  \\\n",
      "0 2022-06-28 2022-06-26      Films (English)                Hustle   \n",
      "1 2022-04-26 2022-04-24     TV (Non-English)     Heirs to the Land   \n",
      "2 2022-06-14 2022-06-12      Films (English)     A Perfect Pairing   \n",
      "3 2022-06-28 2022-06-26      Films (English)  The Man from Toronto   \n",
      "4 2022-04-12 2022-04-10  Films (Non-English)               Furioza   \n",
      "\n",
      "                  season_title  weekly_rank  cumulative_weeks_in_top_10  \\\n",
      "0                          NaN            3                           3   \n",
      "1  Heirs to the Land: Season 1            5                           2   \n",
      "2                          NaN            6                           4   \n",
      "3                          NaN            1                           1   \n",
      "4                          NaN            1                           1   \n",
      "\n",
      "   weekly_hours_viewed  \n",
      "0             26050000  \n",
      "1             18840000  \n",
      "2              7130000  \n",
      "3             53890000  \n",
      "4             23960000  \n"
     ]
    }
   ],
   "source": [
    "# remove 2022-05-22 week rows from the netflix dataset\n",
    "nflx_top_10 = nflx_top_10[nflx_top_10['week'] != '2022-05-22']\n",
    "\n",
    "# also remove null show_title rows\n",
    "nflx_top_10 = nflx_top_10[nflx_top_10['show_title'].notna()]\n",
    "\n",
    "# check how many rows are in the dataset\n",
    "print(nflx_top_10.shape)\n",
    "print(nflx_top_10.head())"
   ]
  },
  {
   "cell_type": "markdown",
   "id": "087d028e",
   "metadata": {},
   "source": [
    "## Join movie and ratings datasets\n",
    "\n",
    "As there is only one row to consider, the two tables can be joined to keep the rating in the same table which help to answer the questions in hand."
   ]
  },
  {
   "cell_type": "code",
   "execution_count": null,
   "id": "8e617703",
   "metadata": {},
   "outputs": [
    {
     "name": "stdout",
     "output_type": "stream",
     "text": [
      "1\n"
     ]
    }
   ],
   "source": [
    "# join movie and ratings datasets\n",
    "nflx_top_10 = pd.merge(nflx_top_10, imdb_top_10, how='left', left_on='show_title', right_on='title')\n",
    "\n",
    "# remove any rows with null ratings\n",
    "if nflx_top_10[nflx_top_10['rating'].isnull()].shape[0] > 0:\n",
    "    nflx_top_10 = nflx_top_10[nflx_top_10['rating'].notna()]"
   ]
  },
  {
   "cell_type": "markdown",
   "id": "9b30570c",
   "metadata": {},
   "source": [
    "Now the dataset is ready to analyse and answer the questions. Let's dive in."
   ]
  },
  {
   "cell_type": "markdown",
   "id": "37341e1b",
   "metadata": {},
   "source": [
    "## Analysis"
   ]
  },
  {
   "cell_type": "markdown",
   "id": "f084dfdf",
   "metadata": {},
   "source": [
    "### 1. Most viewed English movie"
   ]
  },
  {
   "cell_type": "code",
   "execution_count": 23,
   "id": "bfdf1ce1",
   "metadata": {},
   "outputs": [
    {
     "name": "stdout",
     "output_type": "stream",
     "text": [
      "Shrek\n"
     ]
    }
   ],
   "source": [
    "# the film with most appearances in our data set\n",
    "most_viewed = nflx_top_10['show_title'].value_counts().idxmax()\n",
    "print(most_viewed)"
   ]
  }
 ],
 "metadata": {
  "kernelspec": {
   "display_name": "Python 3",
   "language": "python",
   "name": "python3"
  },
  "language_info": {
   "codemirror_mode": {
    "name": "ipython",
    "version": 3
   },
   "file_extension": ".py",
   "mimetype": "text/x-python",
   "name": "python",
   "nbconvert_exporter": "python",
   "pygments_lexer": "ipython3",
   "version": "3.13.2"
  }
 },
 "nbformat": 4,
 "nbformat_minor": 5
}
