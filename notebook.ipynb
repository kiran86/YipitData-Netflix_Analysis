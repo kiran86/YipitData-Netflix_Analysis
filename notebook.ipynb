{
 "cells": [
  {
   "cell_type": "markdown",
   "id": "91d645fe",
   "metadata": {},
   "source": [
    "# Netflix Top 10 Titles"
   ]
  },
  {
   "cell_type": "markdown",
   "id": "65456f1d",
   "metadata": {},
   "source": [
    "## Background\n",
    "Each week, Netflix publishes its top 10 titles, along with how many hours users spent watching each one. These are split up into four categories: Films (English), Films (Non-English), TV (English), and TV (Non-English). Investors have a number of key questions about Netflix that this data can help address. For example:\n",
    "+ Is Netflix producing and licensing engaging content?\n",
    "+ Are Netflix's content investments in new genres or geographies generating significant viewership?\n",
    "+ How is viewership trending over time, and what implications does this have for Netflix's subscriber numbers?\n",
    "\n",
    "To answer these questions, the Netflix top 10 website is scrapped every week and then IMDb is scrapped to get information including a movie or show’s running time and ratings. Once the system have this data, it is cleaned and analyzed to provide insights to clients."
   ]
  },
  {
   "cell_type": "markdown",
   "id": "ccefebb6",
   "metadata": {},
   "source": [
    "## Import libraries"
   ]
  },
  {
   "cell_type": "code",
   "execution_count": 1,
   "id": "bbb5f6cd",
   "metadata": {},
   "outputs": [],
   "source": [
    "# import necessary libraries\n",
    "import pandas as pd\n",
    "import numpy as np"
   ]
  },
  {
   "cell_type": "markdown",
   "id": "6ceec241",
   "metadata": {},
   "source": [
    "## Load the Data"
   ]
  },
  {
   "cell_type": "code",
   "execution_count": 2,
   "id": "c2d3591b",
   "metadata": {},
   "outputs": [
    {
     "name": "stdout",
     "output_type": "stream",
     "text": [
      "<class 'pandas.core.frame.DataFrame'>\n",
      "RangeIndex: 520 entries, 0 to 519\n",
      "Data columns (total 8 columns):\n",
      " #   Column                      Non-Null Count  Dtype         \n",
      "---  ------                      --------------  -----         \n",
      " 0   date_added                  520 non-null    datetime64[ns]\n",
      " 1   week                        520 non-null    datetime64[ns]\n",
      " 2   category                    520 non-null    object        \n",
      " 3   show_title                  520 non-null    object        \n",
      " 4   season_title                249 non-null    object        \n",
      " 5   weekly_rank                 520 non-null    int64         \n",
      " 6   cumulative_weeks_in_top_10  520 non-null    int64         \n",
      " 7   weekly_hours_viewed         520 non-null    int64         \n",
      "dtypes: datetime64[ns](2), int64(3), object(3)\n",
      "memory usage: 32.6+ KB\n",
      "None\n",
      "<class 'pandas.core.frame.DataFrame'>\n",
      "RangeIndex: 15879 entries, 0 to 15878\n",
      "Data columns (total 2 columns):\n",
      " #   Column  Non-Null Count  Dtype  \n",
      "---  ------  --------------  -----  \n",
      " 0   title   14569 non-null  object \n",
      " 1   rating  15879 non-null  float64\n",
      "dtypes: float64(1), object(1)\n",
      "memory usage: 248.2+ KB\n",
      "None\n"
     ]
    }
   ],
   "source": [
    "# read netflix dataset\n",
    "nflx_top_10 = pd.read_excel('Prescreening Files/Data File.xlsx', sheet_name='NFLX Top 10')\n",
    "# read imdb dataset\n",
    "imdb_top_10 = pd.read_excel('Prescreening Files/Data File.xlsx', sheet_name='IMDB Rating')\n",
    "\n",
    "# check datasets\n",
    "print(nflx_top_10.info())\n",
    "print(imdb_top_10.info())"
   ]
  },
  {
   "cell_type": "markdown",
   "id": "087d028e",
   "metadata": {},
   "source": [
    "## Join movie and ratings datasets\n",
    "\n",
    "As there is only one row to consider, the two tables can be joined to keep the rating in the same table which help to answer the questions in hand."
   ]
  },
  {
   "cell_type": "code",
   "execution_count": null,
   "id": "8e617703",
   "metadata": {},
   "outputs": [],
   "source": [
    "# join movie and ratings datasets\n",
    "nflx_top_10 = pd.merge(nflx_top_10, imdb_top_10, how='left', left_on='show_title', right_on='title')\n",
    "print(nflx_top_10.info())"
   ]
  },
  {
   "cell_type": "markdown",
   "id": "9b30570c",
   "metadata": {},
   "source": [
    "Now the dataset is ready to analyse and answer the questions. Let's dive in."
   ]
  },
  {
   "cell_type": "markdown",
   "id": "a2024bfa",
   "metadata": {},
   "source": [
    "Also, ensure date fields are parsed correctly."
   ]
  },
  {
   "cell_type": "code",
   "execution_count": 4,
   "id": "2bce6760",
   "metadata": {},
   "outputs": [],
   "source": [
    "# Ensure date parsing is correct\n",
    "nflx_top_10['date_added'] = pd.to_datetime(nflx_top_10['date_added'])\n",
    "nflx_top_10['week'] = pd.to_datetime(nflx_top_10['week'])"
   ]
  },
  {
   "cell_type": "markdown",
   "id": "37341e1b",
   "metadata": {},
   "source": [
    "## Analysis\n",
    "\n",
    "Now we will try to dive into the dataset and answer a few questions regarding the same."
   ]
  },
  {
   "cell_type": "markdown",
   "id": "f084dfdf",
   "metadata": {},
   "source": [
    "### _1. Within the most recent week of data, which English title had the highest total weeks in the top 10?_\n",
    "\n",
    "To answer this, first we need to filter out only the English titles in both movies and tv."
   ]
  },
  {
   "cell_type": "code",
   "execution_count": 5,
   "id": "bfdf1ce1",
   "metadata": {},
   "outputs": [
    {
     "name": "stdout",
     "output_type": "stream",
     "text": [
      "Counts of titles by category:category\n",
      "Films (English)        139\n",
      "TV (English)           133\n",
      "Films (Non-English)    132\n",
      "TV (Non-English)       130\n",
      "Name: count, dtype: int64\n",
      "Number of English titles: 272\n"
     ]
    }
   ],
   "source": [
    "# Print counts of titles category wise\n",
    "print(f\"Counts of titles by category:{nflx_top_10['category'].value_counts()}\")\n",
    "# Filter to English titles\n",
    "eng_titles = nflx_top_10[nflx_top_10['category'].str.contains('\\\\(English\\\\)')]\n",
    "print(f\"Number of English titles: {eng_titles.shape[0]}\")\n",
    "# the film with most appearances in our data set\n",
    "most_viewed = nflx_top_10['show_title'].value_counts().idxmax()\n",
    "# avg weekly hours viewed of the above title"
   ]
  }
 ],
 "metadata": {
  "kernelspec": {
   "display_name": "Python 3",
   "language": "python",
   "name": "python3"
  },
  "language_info": {
   "codemirror_mode": {
    "name": "ipython",
    "version": 3
   },
   "file_extension": ".py",
   "mimetype": "text/x-python",
   "name": "python",
   "nbconvert_exporter": "python",
   "pygments_lexer": "ipython3",
   "version": "3.13.2"
  }
 },
 "nbformat": 4,
 "nbformat_minor": 5
}
